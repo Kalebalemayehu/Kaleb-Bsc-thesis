{
 "cells": [
  {
   "cell_type": "code",
   "execution_count": 23,
   "metadata": {},
   "outputs": [],
   "source": [
    "import os\n",
    "import urllib.request\n",
    "import gzip\n",
    "import pandas as pd\n"
   ]
  },
  {
   "cell_type": "code",
   "execution_count": 24,
   "metadata": {},
   "outputs": [
    {
     "data": {
      "text/html": [
       "<div>\n",
       "<style scoped>\n",
       "    .dataframe tbody tr th:only-of-type {\n",
       "        vertical-align: middle;\n",
       "    }\n",
       "\n",
       "    .dataframe tbody tr th {\n",
       "        vertical-align: top;\n",
       "    }\n",
       "\n",
       "    .dataframe thead th {\n",
       "        text-align: right;\n",
       "    }\n",
       "</style>\n",
       "<table border=\"1\" class=\"dataframe\">\n",
       "  <thead>\n",
       "    <tr style=\"text-align: right;\">\n",
       "      <th></th>\n",
       "      <th>id</th>\n",
       "      <th>col1</th>\n",
       "      <th>col2</th>\n",
       "    </tr>\n",
       "  </thead>\n",
       "  <tbody>\n",
       "    <tr>\n",
       "      <th>0</th>\n",
       "      <td>1</td>\n",
       "      <td>I like apples and bananas</td>\n",
       "      <td>I love oranges</td>\n",
       "    </tr>\n",
       "    <tr>\n",
       "      <th>1</th>\n",
       "      <td>2</td>\n",
       "      <td>Oranges are my favorite</td>\n",
       "      <td>Bananas are delicious</td>\n",
       "    </tr>\n",
       "    <tr>\n",
       "      <th>2</th>\n",
       "      <td>3</td>\n",
       "      <td>I have an apple and a banana for lunch</td>\n",
       "      <td>Apples are my favorite fruit</td>\n",
       "    </tr>\n",
       "  </tbody>\n",
       "</table>\n",
       "</div>"
      ],
      "text/plain": [
       "   id                                    col1                          col2\n",
       "0   1               I like apples and bananas                I love oranges\n",
       "1   2                 Oranges are my favorite         Bananas are delicious\n",
       "2   3  I have an apple and a banana for lunch  Apples are my favorite fruit"
      ]
     },
     "execution_count": 24,
     "metadata": {},
     "output_type": "execute_result"
    }
   ],
   "source": [
    "# Set the URL of the directory containing the files\n",
    "url = 'https://opendata.dwd.de/climate_environment/CDC/grids_germany/annual/air_temperature_mean/'\n",
    "\n",
    "\n",
    "# Define a function to download and extract the files\n",
    "def download_and_extract(url, filename):\n",
    "    # Download the file\n",
    "    urllib.request.urlretrieve(url + filename, filename)\n",
    "\n",
    "    # Extract the file\n",
    "    with gzip.open(filename, 'rb') as f_in:\n",
    "        with open(filename[:-3], 'wb') as f_out:\n",
    "            f_out.write(f_in.read())\n",
    "\n",
    "    # Remove the compressed file\n",
    "    os.remove(filename)\n",
    "\n",
    "# Loop over all the files in the directory\n",
    "for file in os.listdir('.'):\n",
    "    if file.endswith('.asc.gz'):\n",
    "        print('Downloading and extracting', file)\n",
    "        download_and_extract(url, file)\n",
    "\n",
    "# Loop over all the extracted files and convert them to CSV\n",
    "for file in os.listdir('.'):\n",
    "    if file.endswith('.asc'):\n",
    "        print('Converting', file, 'to CSV')\n",
    "        df = pd.read_csv(file, header=None, skiprows=6, delim_whitespace=True)\n",
    "        df.to_csv(file[:-4] + '.csv', index=False)\n",
    "\n",
    "df"
   ]
  },
  {
   "cell_type": "code",
   "execution_count": null,
   "metadata": {},
   "outputs": [],
   "source": []
  }
 ],
 "metadata": {
  "kernelspec": {
   "display_name": "base",
   "language": "python",
   "name": "python3"
  },
  "language_info": {
   "codemirror_mode": {
    "name": "ipython",
    "version": 3
   },
   "file_extension": ".py",
   "mimetype": "text/x-python",
   "name": "python",
   "nbconvert_exporter": "python",
   "pygments_lexer": "ipython3",
   "version": "3.9.7"
  },
  "orig_nbformat": 4,
  "vscode": {
   "interpreter": {
    "hash": "0783c9b49f6f75b3dbff4c84e84d684dbf53840987e9161b2ccba200d4db247f"
   }
  }
 },
 "nbformat": 4,
 "nbformat_minor": 2
}
