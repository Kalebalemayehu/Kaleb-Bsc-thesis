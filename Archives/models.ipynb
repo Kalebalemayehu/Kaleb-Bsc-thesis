{
 "cells": [
  {
   "cell_type": "code",
   "execution_count": 5,
   "metadata": {},
   "outputs": [
    {
     "name": "stdout",
     "output_type": "stream",
     "text": [
      "Counter()\n"
     ]
    },
    {
     "name": "stderr",
     "output_type": "stream",
     "text": [
      "/var/folders/l4/pbw5dk1139gdk7nt6gdt2yp40000gn/T/ipykernel_5105/1695741465.py:8: FutureWarning: The default value of regex will change from True to False in a future version.\n",
      "  df['Abstract'] = df['Abstract'].str.replace('[^a-zA-Z\\s]', '').str.lower()\n"
     ]
    }
   ],
   "source": [
    "import re\n",
    "from collections import Counter\n",
    "import pandas as pd\n",
    "\n",
    "# Example dataframe with text data\n",
    "df = pd.read_csv('XAI_sc.csv')\n",
    "# Preprocess the text data\n",
    "df['Abstract'] = df['Abstract'].str.replace('[^a-zA-Z\\s]', '').str.lower()\n",
    "\n",
    "# Tokenize the text data\n",
    "df['Abstract'] = df['Abstract'].apply(lambda x: x.split())\n",
    "\n",
    "# Identify the machine learning models\n",
    "models = [\n",
    "\"Fuzzy\",\"Treebased\",\"Classification and Regression Tree\",\"CART\",\"Conditional Inference Tree\",\"CTree\",\n",
    "\"Decision Tree\",\"Fast and Frugal Trees\",\n",
    "\"FFTs\",\n",
    "\"Fuzzy Hoeffding Decision Tree\",\n",
    "\"FHDT\",\"J48\",\n",
    "\"One-Class Tree\",\n",
    "\"OCTree\",\n",
    "\"Multi-Operator Temporal Decision Tree\",\n",
    "\"MTDT\",\n",
    "\"Support Vector Machines\",\n",
    "\"Neural Network\",\n",
    "\"Model-agnostic\",\n",
    "\"Model-specific\",\n",
    "\"Ensemble Methods\",\n",
    "\"SVM with Linear and Radial Basis Function Kernels\",\n",
    "\"ApparentFlow-net\",\n",
    "\"Convolutional Neural Network\",\n",
    "\"Adaptive Boosting\",\n",
    "\"Ada-WHIPS\",\n",
    "\"Deep Neural Network\",\n",
    "\"Explainable Unsupervised Decision Trees\",\n",
    "\"Deep Reinforcement Learning\",\n",
    "\"eXtreme Gradient Boosting\",\n",
    "\"Explainable Deep Neural Network\",\n",
    "\"Explainable Neural Network\",\n",
    "\"Global-Local Capsule Networks\",\n",
    "\"GoogleLeNet\",\n",
    "\"Gramian Angular Summation Field CNN\",\n",
    "\"Hopfield Neural Networks\",\n",
    "\"Knowledge-Aware Path Recurrent Network\",\n",
    "\"Knowledge-Shot Learning\",\n",
    "\"LeNet-5\",\n",
    "\"Locally Guided Neural Networks\",\n",
    "\"Long/Short-Term Memory\",\n",
    "\"LVRV-net\",\n",
    "\"MatConvNet\",\n",
    "\"Multilayer Perceptrons\",\n",
    "\"Nilpotent Neural Network\",\n",
    "\"Recurrent Neural Network\",\n",
    "\"Region-Based CNN\",\n",
    "\"RestNet\",\n",
    "\"ROINet\",\n",
    "\"Temporal Convolutional Network\",\n",
    "\"VGG-19\",\n",
    "\"YOLO\",\"Fuzzy\",\"Treebased\",\"Classification and Regression Tree\",\"CART\",\"Conditional Inference Tree\",\"CTree\",\"Decision Tree\",\"Fast and Frugal Trees\",\"FFTs\",\"Fuzzy Hoeffding Decision Tree\",\"FHDT\",\"J48\",\"One-Class Tree\",\"OCTree\",\"Multi-Operator Temporal Decision Tree\",\"MTDT\",\"Support Vector Machines\",\"Neural Network\",\"Model-agnostic\",\"Model-specific\",\"Ensemble Methods\",\"SVM with Linear and Radial Basis Function Kernels\",\"ApparentFlow-net\",\"Convolutional Neural Network\",\"Adaptive Boosting\",\"Ada-WHIPS\",\"Deep Neural Network\",\"Explainable Unsupervised Decision Trees\",\"Deep Reinforcement Learning\",\"eXtreme Gradient Boosting\",\"Explainable Deep Neural Network\",\"Explainable Neural Network\",\"Global-Local Capsule Networks\",\"GoogleLeNet\",\"Gramian Angular Summation Field CNN\",\"Hopfield Neural Networks\",\"Knowledge-Aware Path Recurrent Network\",\"Knowledge-Shot Learning\",\"LeNet-5\",\"Locally Guided Neural Networks\",\"Long/Short-Term Memory\",\"LVRV-net\",\"MatConvNet\",\"Multilayer Perceptrons\",\"Nilpotent Neural Network\",\"Recurrent Neural Network\",\"Region-Based CNN\",\"RestNet\",\"ROINet\",\"Temporal Convolutional Network\",\"VGG-19\",\"YOLO\",\"Decision Jungle\",\"Decision Table\",\"Discriminant Analysis\",\"Dynamic Time Warping\",\"Elastic Net\",\"Evolutionary Algorithms\",\"Factorization Machines\",\"Feature Hashing\",\"Functional Gradient Boosting\",\"Generalized Linear Model\",\"Gaussian Process\",\"Gradient Boosting\",\"Independent Component Analysis\",\"K-Nearest Neighbors\",\"K-Support\",\"Kernel Density Estimation\",\"Latent Dirichlet Allocation\",\"Lasso\",\"Least Angle Regression\",\"Linear Regression\",\"Logistic Regression\",\"Logistic Regression with Lasso Regularization\",\"Machine Learning Rules\",\"Naive Bayes\",\"Neural Ensembles\",\"Neural Network with Local Receptive Fields\",\"Neural Networks with Parameter Sharing\",\"Online Learning\",\"Optimization Algorithms\",\"Orthogonal Matching Pursuit\",\"Partial Least Squares\",\"Perceptron\",\"Principal Component Analysis\",\"Radial Basis Function Network\",\"Random Forest\",\"Random Search\",\"Regularization Networks\",\"Relevance Vector Machine\",\"Ridge Regression\",\"Robust Regression\",\"Self-Organizing Map\",\"Sequential Minimal Optimization\",\"Shallow Neural Networks\",\"Smoothed Particle Hydrodynamics\",\"Sparse Coding\",\"Stochastic Gradient Descent\",\"Support Vector Regression\",\"Temporal Difference Learning\",\"Topological Data Analysis\",\"Transform Learning\",\"Unsupervised Learning\",\"Variational Autoencoder\",\"Vector Quantization\",\"Wavelet Networks\",\"XGBoost\",\"ZigZag Networks\"]\n",
    "pattern = re.compile(r'\\b(' + '|'.join(models) + r')\\b')\n",
    "\n",
    "# Count the number of occurrences\n",
    "model_counts = Counter()\n",
    "for row in df['Abstract']:\n",
    "    model_counts.update([token for token in row if pattern.search(token)])\n",
    "\n",
    "print(model_counts)\n"
   ]
  }
 ],
 "metadata": {
  "kernelspec": {
   "display_name": "base",
   "language": "python",
   "name": "python3"
  },
  "language_info": {
   "codemirror_mode": {
    "name": "ipython",
    "version": 3
   },
   "file_extension": ".py",
   "mimetype": "text/x-python",
   "name": "python",
   "nbconvert_exporter": "python",
   "pygments_lexer": "ipython3",
   "version": "3.9.7"
  },
  "orig_nbformat": 4,
  "vscode": {
   "interpreter": {
    "hash": "0783c9b49f6f75b3dbff4c84e84d684dbf53840987e9161b2ccba200d4db247f"
   }
  }
 },
 "nbformat": 4,
 "nbformat_minor": 2
}
