{
 "cells": [
  {
   "cell_type": "code",
   "execution_count": 1,
   "metadata": {},
   "outputs": [],
   "source": [
    "import numpy as np\n",
    "import pandas as pd\n",
    "import matplotlib.pyplot as plt\n",
    "import seaborn as sns\n",
    "\n",
    "from numpy import arange\n",
    "from sklearn import metrics\n",
    "from sklearn.model_selection import cross_val_score\n",
    "from sklearn.model_selection import RepeatedKFold\n",
    "from sklearn.model_selection import train_test_split\n",
    "from sklearn.ensemble import RandomForestRegressor\n",
    "from sklearn.metrics import r2_score\n",
    "from sklearn.preprocessing import MinMaxScaler\n",
    "\n",
    "import warnings\n",
    "warnings.simplefilter('ignore')"
   ]
  },
  {
   "cell_type": "code",
   "execution_count": 2,
   "metadata": {},
   "outputs": [],
   "source": [
    "## Calulcating metrics\n",
    "def calculate_metrics(df, crop_names, y_test, y_pred):\n",
    "    mae = metrics.mean_absolute_error(y_test, y_pred)\n",
    "    mse = metrics.mean_squared_error(y_test, y_pred)\n",
    "    rmse = np.sqrt(metrics.mean_squared_error(y_test, y_pred))\n",
    "    mape = metrics.mean_absolute_percentage_error(y_test, y_pred)\n",
    "    r2 = r2_score(y_test,y_pred)\n",
    "    y_test_avg = pd.DataFrame(y_test).mean().iloc[0]\n",
    "    y_pred_avg = pd.DataFrame(y_pred).mean().iloc[0]\n",
    "    df.loc[crop_names] = [mae, mse, rmse, mape, r2, y_test_avg, y_pred_avg]\n"
   ]
  },
  {
   "cell_type": "code",
   "execution_count": 5,
   "metadata": {},
   "outputs": [
    {
     "data": {
      "text/plain": [
       "Spring        591\n",
       "Summer        381\n",
       "Year-Round    274\n",
       "Autumn        152\n",
       "Fall          145\n",
       "Winter         31\n",
       "Name: Crop_season, dtype: int64"
      ]
     },
     "execution_count": 5,
     "metadata": {},
     "output_type": "execute_result"
    }
   ],
   "source": [
    "fao_data = pd.read_csv(\"datasets/latest0705.csv\", index_col='Unnamed: 0')\n",
    "\n",
    "fao_data['Crop_season'].value_counts()"
   ]
  },
  {
   "cell_type": "code",
   "execution_count": 6,
   "metadata": {},
   "outputs": [
    {
     "data": {
      "text/plain": [
       "Vegetables and Legumes    670\n",
       "Fruits and Nuts           450\n",
       "Industrial_crops          237\n",
       "Cereals                   217\n",
       "Name: Category, dtype: int64"
      ]
     },
     "execution_count": 6,
     "metadata": {},
     "output_type": "execute_result"
    }
   ],
   "source": [
    "fao_data['Category'].value_counts()"
   ]
  },
  {
   "cell_type": "code",
   "execution_count": 7,
   "metadata": {},
   "outputs": [
    {
     "data": {
      "text/plain": [
       "array(['Fruits and Nuts', 'Vegetables and Legumes', 'Cereals',\n",
       "       'Industrial_crops'], dtype=object)"
      ]
     },
     "execution_count": 7,
     "metadata": {},
     "output_type": "execute_result"
    }
   ],
   "source": [
    "cat_names = fao_data['Category'].unique()\n",
    "cat_names"
   ]
  },
  {
   "cell_type": "code",
   "execution_count": 8,
   "metadata": {},
   "outputs": [
    {
     "data": {
      "text/html": [
       "<div>\n",
       "<style scoped>\n",
       "    .dataframe tbody tr th:only-of-type {\n",
       "        vertical-align: middle;\n",
       "    }\n",
       "\n",
       "    .dataframe tbody tr th {\n",
       "        vertical-align: top;\n",
       "    }\n",
       "\n",
       "    .dataframe thead th {\n",
       "        text-align: right;\n",
       "    }\n",
       "</style>\n",
       "<table border=\"1\" class=\"dataframe\">\n",
       "  <thead>\n",
       "    <tr style=\"text-align: right;\">\n",
       "      <th></th>\n",
       "      <th>Random_forest_MAE</th>\n",
       "      <th>Random_forest_MSE</th>\n",
       "      <th>Random_forest_RMSE</th>\n",
       "      <th>Random_forest_MAPE</th>\n",
       "      <th>Random_forest_r2_score</th>\n",
       "      <th>y_test_avg</th>\n",
       "      <th>y_pred_avg</th>\n",
       "    </tr>\n",
       "  </thead>\n",
       "  <tbody>\n",
       "    <tr>\n",
       "      <th>Fruits and Nuts</th>\n",
       "      <td>NaN</td>\n",
       "      <td>NaN</td>\n",
       "      <td>NaN</td>\n",
       "      <td>NaN</td>\n",
       "      <td>NaN</td>\n",
       "      <td>NaN</td>\n",
       "      <td>NaN</td>\n",
       "    </tr>\n",
       "    <tr>\n",
       "      <th>Vegetables and Legumes</th>\n",
       "      <td>NaN</td>\n",
       "      <td>NaN</td>\n",
       "      <td>NaN</td>\n",
       "      <td>NaN</td>\n",
       "      <td>NaN</td>\n",
       "      <td>NaN</td>\n",
       "      <td>NaN</td>\n",
       "    </tr>\n",
       "    <tr>\n",
       "      <th>Cereals</th>\n",
       "      <td>NaN</td>\n",
       "      <td>NaN</td>\n",
       "      <td>NaN</td>\n",
       "      <td>NaN</td>\n",
       "      <td>NaN</td>\n",
       "      <td>NaN</td>\n",
       "      <td>NaN</td>\n",
       "    </tr>\n",
       "    <tr>\n",
       "      <th>Industrial_crops</th>\n",
       "      <td>NaN</td>\n",
       "      <td>NaN</td>\n",
       "      <td>NaN</td>\n",
       "      <td>NaN</td>\n",
       "      <td>NaN</td>\n",
       "      <td>NaN</td>\n",
       "      <td>NaN</td>\n",
       "    </tr>\n",
       "  </tbody>\n",
       "</table>\n",
       "</div>"
      ],
      "text/plain": [
       "                       Random_forest_MAE Random_forest_MSE Random_forest_RMSE  \\\n",
       "Fruits and Nuts                      NaN               NaN                NaN   \n",
       "Vegetables and Legumes               NaN               NaN                NaN   \n",
       "Cereals                              NaN               NaN                NaN   \n",
       "Industrial_crops                     NaN               NaN                NaN   \n",
       "\n",
       "                       Random_forest_MAPE Random_forest_r2_score y_test_avg  \\\n",
       "Fruits and Nuts                       NaN                    NaN        NaN   \n",
       "Vegetables and Legumes                NaN                    NaN        NaN   \n",
       "Cereals                               NaN                    NaN        NaN   \n",
       "Industrial_crops                      NaN                    NaN        NaN   \n",
       "\n",
       "                       y_pred_avg  \n",
       "Fruits and Nuts               NaN  \n",
       "Vegetables and Legumes        NaN  \n",
       "Cereals                       NaN  \n",
       "Industrial_crops              NaN  "
      ]
     },
     "metadata": {},
     "output_type": "display_data"
    }
   ],
   "source": [
    "quality_metrics = ['Random_forest_MAE', 'Random_forest_MSE', 'Random_forest_RMSE', 'Random_forest_MAPE','Random_forest_r2_score', 'y_test_avg', 'y_pred_avg']\n",
    "error_df = pd.DataFrame(columns = quality_metrics, index = cat_names)\n",
    "display(error_df)"
   ]
  },
  {
   "cell_type": "code",
   "execution_count": 13,
   "metadata": {},
   "outputs": [],
   "source": [
    "scaler = MinMaxScaler()\n",
    "for cat in cat_names:\n",
    "    crop_df = fao_data[fao_data['Category'] == cat]\n",
    "    encoded_df = pd.get_dummies(crop_df[[\"Crop_season\"]], prefix='', prefix_sep='')\n",
    "\n",
    "    y = crop_df[['Yield(tonnes/ha)']]\n",
    "    x = crop_df.drop(['Yield(tonnes/ha)', \"Item\", \"Category\", \"Crop_season\"], axis=1)\n",
    "    x = pd.concat([x, encoded_df], axis=1)\n",
    "    \n",
    "\n",
    "    mean = x.mean()\n",
    "    std = x.std()\n",
    "    lower_bound = mean - 2 * std\n",
    "    upper_bound = mean + 2 * std\n",
    "    x = x.clip(lower_bound, upper_bound, axis=1)\n",
    "\n",
    "    x = scaler.fit_transform(x)\n",
    "    \n",
    "    x_train, x_test, y_train, y_test = train_test_split(x, y, test_size=0.2, shuffle=False)\n",
    "    regressor = RandomForestRegressor(n_estimators = 500, random_state = 42) #max_depth= 150)\n",
    "    regressor.fit(x_train, y_train)\n",
    "    \n",
    "    #prediction of new value\n",
    "    y_pred = regressor.predict(x_test)\n",
    "    calculate_metrics(error_df, cat , pd.DataFrame(y_test), y_pred)"
   ]
  },
  {
   "cell_type": "code",
   "execution_count": 14,
   "metadata": {},
   "outputs": [
    {
     "data": {
      "text/html": [
       "<div>\n",
       "<style scoped>\n",
       "    .dataframe tbody tr th:only-of-type {\n",
       "        vertical-align: middle;\n",
       "    }\n",
       "\n",
       "    .dataframe tbody tr th {\n",
       "        vertical-align: top;\n",
       "    }\n",
       "\n",
       "    .dataframe thead th {\n",
       "        text-align: right;\n",
       "    }\n",
       "</style>\n",
       "<table border=\"1\" class=\"dataframe\">\n",
       "  <thead>\n",
       "    <tr style=\"text-align: right;\">\n",
       "      <th></th>\n",
       "      <th>Random_forest_MAE</th>\n",
       "      <th>Random_forest_MSE</th>\n",
       "      <th>Random_forest_RMSE</th>\n",
       "      <th>Random_forest_MAPE</th>\n",
       "      <th>Random_forest_r2_score</th>\n",
       "      <th>y_test_avg</th>\n",
       "      <th>y_pred_avg</th>\n",
       "    </tr>\n",
       "  </thead>\n",
       "  <tbody>\n",
       "    <tr>\n",
       "      <th>Fruits and Nuts</th>\n",
       "      <td>3.447211</td>\n",
       "      <td>26.872046</td>\n",
       "      <td>5.183825</td>\n",
       "      <td>0.497975</td>\n",
       "      <td>0.469339</td>\n",
       "      <td>9.62286</td>\n",
       "      <td>10.159391</td>\n",
       "    </tr>\n",
       "    <tr>\n",
       "      <th>Vegetables and Legumes</th>\n",
       "      <td>13.250847</td>\n",
       "      <td>535.24241</td>\n",
       "      <td>23.135307</td>\n",
       "      <td>0.816383</td>\n",
       "      <td>0.849853</td>\n",
       "      <td>45.745672</td>\n",
       "      <td>38.45131</td>\n",
       "    </tr>\n",
       "    <tr>\n",
       "      <th>Cereals</th>\n",
       "      <td>0.500306</td>\n",
       "      <td>0.558577</td>\n",
       "      <td>0.74738</td>\n",
       "      <td>0.577647</td>\n",
       "      <td>0.904303</td>\n",
       "      <td>0.038645</td>\n",
       "      <td>0.214377</td>\n",
       "    </tr>\n",
       "    <tr>\n",
       "      <th>Industrial_crops</th>\n",
       "      <td>0.555108</td>\n",
       "      <td>0.66574</td>\n",
       "      <td>0.815929</td>\n",
       "      <td>1.516269</td>\n",
       "      <td>0.616664</td>\n",
       "      <td>0.030727</td>\n",
       "      <td>-0.053095</td>\n",
       "    </tr>\n",
       "  </tbody>\n",
       "</table>\n",
       "</div>"
      ],
      "text/plain": [
       "                       Random_forest_MAE Random_forest_MSE Random_forest_RMSE  \\\n",
       "Fruits and Nuts                 3.447211         26.872046           5.183825   \n",
       "Vegetables and Legumes         13.250847         535.24241          23.135307   \n",
       "Cereals                         0.500306          0.558577            0.74738   \n",
       "Industrial_crops                0.555108           0.66574           0.815929   \n",
       "\n",
       "                       Random_forest_MAPE Random_forest_r2_score y_test_avg  \\\n",
       "Fruits and Nuts                  0.497975               0.469339    9.62286   \n",
       "Vegetables and Legumes           0.816383               0.849853  45.745672   \n",
       "Cereals                          0.577647               0.904303   0.038645   \n",
       "Industrial_crops                 1.516269               0.616664   0.030727   \n",
       "\n",
       "                       y_pred_avg  \n",
       "Fruits and Nuts         10.159391  \n",
       "Vegetables and Legumes   38.45131  \n",
       "Cereals                  0.214377  \n",
       "Industrial_crops        -0.053095  "
      ]
     },
     "execution_count": 14,
     "metadata": {},
     "output_type": "execute_result"
    }
   ],
   "source": [
    "error_df"
   ]
  },
  {
   "cell_type": "code",
   "execution_count": 16,
   "metadata": {},
   "outputs": [
    {
     "data": {
      "text/html": [
       "<div>\n",
       "<style scoped>\n",
       "    .dataframe tbody tr th:only-of-type {\n",
       "        vertical-align: middle;\n",
       "    }\n",
       "\n",
       "    .dataframe tbody tr th {\n",
       "        vertical-align: top;\n",
       "    }\n",
       "\n",
       "    .dataframe thead th {\n",
       "        text-align: right;\n",
       "    }\n",
       "</style>\n",
       "<table border=\"1\" class=\"dataframe\">\n",
       "  <thead>\n",
       "    <tr style=\"text-align: right;\">\n",
       "      <th></th>\n",
       "      <th>Random_forest_MAE</th>\n",
       "      <th>Random_forest_MSE</th>\n",
       "      <th>Random_forest_RMSE</th>\n",
       "      <th>Random_forest_MAPE</th>\n",
       "      <th>Random_forest_r2_score</th>\n",
       "      <th>y_test_avg</th>\n",
       "      <th>y_pred_avg</th>\n",
       "    </tr>\n",
       "  </thead>\n",
       "  <tbody>\n",
       "    <tr>\n",
       "      <th>Fruits and Nuts</th>\n",
       "      <td>3.447211</td>\n",
       "      <td>26.872046</td>\n",
       "      <td>5.183825</td>\n",
       "      <td>0.497975</td>\n",
       "      <td>0.469339</td>\n",
       "      <td>9.62286</td>\n",
       "      <td>10.159391</td>\n",
       "    </tr>\n",
       "    <tr>\n",
       "      <th>Vegetables and Legumes</th>\n",
       "      <td>13.250847</td>\n",
       "      <td>535.24241</td>\n",
       "      <td>23.135307</td>\n",
       "      <td>0.816383</td>\n",
       "      <td>0.849853</td>\n",
       "      <td>45.745672</td>\n",
       "      <td>38.45131</td>\n",
       "    </tr>\n",
       "    <tr>\n",
       "      <th>Cereals</th>\n",
       "      <td>0.500306</td>\n",
       "      <td>0.558577</td>\n",
       "      <td>0.74738</td>\n",
       "      <td>0.577647</td>\n",
       "      <td>0.904303</td>\n",
       "      <td>0.038645</td>\n",
       "      <td>0.214377</td>\n",
       "    </tr>\n",
       "    <tr>\n",
       "      <th>Industrial_crops</th>\n",
       "      <td>0.555108</td>\n",
       "      <td>0.66574</td>\n",
       "      <td>0.815929</td>\n",
       "      <td>1.516269</td>\n",
       "      <td>0.616664</td>\n",
       "      <td>0.030727</td>\n",
       "      <td>-0.053095</td>\n",
       "    </tr>\n",
       "  </tbody>\n",
       "</table>\n",
       "</div>"
      ],
      "text/plain": [
       "                       Random_forest_MAE Random_forest_MSE Random_forest_RMSE  \\\n",
       "Fruits and Nuts                 3.447211         26.872046           5.183825   \n",
       "Vegetables and Legumes         13.250847         535.24241          23.135307   \n",
       "Cereals                         0.500306          0.558577            0.74738   \n",
       "Industrial_crops                0.555108           0.66574           0.815929   \n",
       "\n",
       "                       Random_forest_MAPE Random_forest_r2_score y_test_avg  \\\n",
       "Fruits and Nuts                  0.497975               0.469339    9.62286   \n",
       "Vegetables and Legumes           0.816383               0.849853  45.745672   \n",
       "Cereals                          0.577647               0.904303   0.038645   \n",
       "Industrial_crops                 1.516269               0.616664   0.030727   \n",
       "\n",
       "                       y_pred_avg  \n",
       "Fruits and Nuts         10.159391  \n",
       "Vegetables and Legumes   38.45131  \n",
       "Cereals                  0.214377  \n",
       "Industrial_crops        -0.053095  "
      ]
     },
     "execution_count": 16,
     "metadata": {},
     "output_type": "execute_result"
    }
   ],
   "source": [
    "error_df"
   ]
  },
  {
   "cell_type": "code",
   "execution_count": 15,
   "metadata": {},
   "outputs": [
    {
     "data": {
      "image/png": "[encoded data removed]",
      "text/plain": [
       "<Figure size 1440x720 with 1 Axes>"
      ]
     },
     "metadata": {
      "needs_background": "light"
     },
     "output_type": "display_data"
    }
   ],
   "source": [
    "avg_df = error_df[['y_test_avg', 'y_pred_avg']].reset_index()\n",
    "\n",
    "\n",
    "\n",
    "#create a line plot of the average test and predicted yield per crop\n",
    "plt.figure(figsize=(20, 10))\n",
    "plt.plot(avg_df['index'], avg_df['y_test_avg'], label='Average Test Yield')\n",
    "plt.plot(avg_df['index'], avg_df['y_pred_avg'], label='Average Predicted Yield')\n",
    "plt.xticks(rotation=90)\n",
    "plt.xlabel('index')\n",
    "plt.ylabel('Yield (tonnes/ha)')\n",
    "plt.title('Average Test and Predicted Yield per Crop')\n",
    "plt.legend()\n",
    "plt.show()"
   ]
  }
 ],
 "metadata": {
  "kernelspec": {
   "display_name": "base",
   "language": "python",
   "name": "python3"
  },
  "language_info": {
   "codemirror_mode": {
    "name": "ipython",
    "version": 3
   },
   "file_extension": ".py",
   "mimetype": "text/x-python",
   "name": "python",
   "nbconvert_exporter": "python",
   "pygments_lexer": "ipython3",
   "version": "3.9.7"
  },
  "orig_nbformat": 4,
  "vscode": {
   "interpreter": {
    "hash": "0783c9b49f6f75b3dbff4c84e84d684dbf53840987e9161b2ccba200d4db247f"
   }
  }
 },
 "nbformat": 4,
 "nbformat_minor": 2
}
