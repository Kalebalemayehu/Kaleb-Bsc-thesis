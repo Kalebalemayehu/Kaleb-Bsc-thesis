{
 "cells": [
  {
   "cell_type": "code",
   "execution_count": 32,
   "metadata": {},
   "outputs": [],
   "source": [
    "import numpy as np\n",
    "import pandas as pd\n",
    "import matplotlib.pyplot as plt\n",
    "import seaborn as sns\n",
    "\n",
    "from numpy import arange\n",
    "from sklearn.preprocessing import LabelBinarizer\n",
    "from sklearn import metrics\n",
    "from sklearn.model_selection import cross_val_score\n",
    "from sklearn.model_selection import RepeatedKFold\n",
    "from sklearn.model_selection import train_test_split\n",
    "from sklearn.ensemble import RandomForestRegressor\n",
    "from sklearn.metrics import r2_score\n",
    "from sklearn.preprocessing import MinMaxScaler\n",
    "\n",
    "import warnings\n",
    "warnings.simplefilter('ignore')"
   ]
  },
  {
   "cell_type": "code",
   "execution_count": 33,
   "metadata": {},
   "outputs": [],
   "source": [
    "## Calulcating metrics\n",
    "def calculate_metrics(df, crop_names, y_test, y_pred):\n",
    "    mae = metrics.mean_absolute_error(y_test, y_pred)\n",
    "    mse = metrics.mean_squared_error(y_test, y_pred)\n",
    "    rmse = np.sqrt(metrics.mean_squared_error(y_test, y_pred))\n",
    "    mape = metrics.mean_absolute_percentage_error(y_test, y_pred)\n",
    "    r2 = r2_score(y_test,y_pred)\n",
    "    y_test_avg = pd.DataFrame(y_test).mean().iloc[0]\n",
    "    y_pred_avg = pd.DataFrame(y_pred).mean().iloc[0]\n",
    "    df.loc[crop_names] = [mae, mse, rmse, mape, r2, y_test_avg, y_pred_avg]\n"
   ]
  },
  {
   "cell_type": "code",
   "execution_count": 34,
   "metadata": {},
   "outputs": [
    {
     "data": {
      "text/plain": [
       "Index(['Nutrient nitrogen N (total) - tonnes',\n",
       "       'Nutrient phosphate P2O5 (total) - tonnes',\n",
       "       'Nutrient potash K2O (total) - tonnes', 'Item', 'Yield(tonnes/ha)',\n",
       "       'Fung & Bact – Benzimidazoles', 'Fung & Bact – Diazines, morpholines',\n",
       "       'Fung & Bact – Dithiocarbamates', 'Fung & Bact – Inorganics',\n",
       "       'Fung & Bact – Other',\n",
       "       ...\n",
       "       'Rodenticides – Other-3', 'Herbicides – Bipiridils-1',\n",
       "       'Herbicides – Bipiridils-2', 'Herbicides – Bipiridils-3',\n",
       "       'Herbicides – Sulfonyl ureas-1', 'Herbicides – Sulfonyl ureas-2',\n",
       "       'Herbicides – Sulfonyl ureas-3', 'Rodenticides – Anti-coagulants-1',\n",
       "       'Rodenticides – Anti-coagulants-2', 'Rodenticides – Anti-coagulants-3'],\n",
       "      dtype='object', length=114)"
      ]
     },
     "execution_count": 34,
     "metadata": {},
     "output_type": "execute_result"
    }
   ],
   "source": [
    "fao_data = pd.read_csv(\"latest_2504.csv\", index_col='Unnamed: 0')\n",
    "\n",
    "fao_data.columns"
   ]
  },
  {
   "cell_type": "code",
   "execution_count": 35,
   "metadata": {},
   "outputs": [],
   "source": [
    "x_vals = ['Nutrient nitrogen N (total) - tonnes',\n",
    " 'Nutrient phosphate P2O5 (total) - tonnes',\n",
    " 'Nutrient potash K2O (total) - tonnes',\n",
    " 'Fung & Bact – Benzimidazoles',\n",
    " 'Fung & Bact – Diazines, morpholines',\n",
    " 'Fung & Bact – Dithiocarbamates',\n",
    " 'Fung & Bact – Inorganics',\n",
    " 'Fung & Bact – Other',\n",
    " 'Fung & Bact – Triazoles, diazoles',\n",
    " 'Herbicides – Amides',\n",
    " 'Herbicides – Carbamates',\n",
    " 'Herbicides – Dinitroanilines',\n",
    " 'Herbicides – Other',\n",
    " 'Herbicides – Phenoxy hormone products',\n",
    " 'Herbicides – Triazines',\n",
    " 'Herbicides – Urea derivates',\n",
    " 'Insecticides – Botanical products and biologicals',\n",
    " 'Insecticides – Carbamates',\n",
    " 'Insecticides – Organo-phosphates',\n",
    " 'Insecticides – Other',\n",
    " 'Insecticides – Pyrethroids',\n",
    " 'Mineral Oils',\n",
    " 'Plant Growth Regulators',\n",
    " 'Rodenticides – Other',\n",
    " 'Herbicides – Bipiridils',\n",
    " 'Herbicides – Sulfonyl ureas',\n",
    " 'Rodenticides – Anti-coagulants',\n",
    " 'Nutrient nitrogen N (total) - tonnes-1',\n",
    " 'Nutrient nitrogen N (total) - tonnes-2',\n",
    " 'Nutrient nitrogen N (total) - tonnes-3',\n",
    " 'Nutrient phosphate P2O5 (total) - tonnes-1',\n",
    " 'Nutrient phosphate P2O5 (total) - tonnes-2',\n",
    " 'Nutrient phosphate P2O5 (total) - tonnes-3',\n",
    " 'Nutrient potash K2O (total) - tonnes-1',\n",
    " 'Nutrient potash K2O (total) - tonnes-2',\n",
    " 'Nutrient potash K2O (total) - tonnes-3',\n",
    " 'Yield(tonnes/ha)-1',\n",
    " 'Yield(tonnes/ha)-2',\n",
    " 'Yield(tonnes/ha)-3',\n",
    " 'Fung & Bact – Benzimidazoles-1',\n",
    " 'Fung & Bact – Benzimidazoles-2',\n",
    " 'Fung & Bact – Benzimidazoles-3',\n",
    " 'Fung & Bact – Diazines, morpholines-1',\n",
    " 'Fung & Bact – Diazines, morpholines-2',\n",
    " 'Fung & Bact – Diazines, morpholines-3',\n",
    " 'Fung & Bact – Dithiocarbamates-1',\n",
    " 'Fung & Bact – Dithiocarbamates-2',\n",
    " 'Fung & Bact – Dithiocarbamates-3',\n",
    " 'Fung & Bact – Inorganics-1',\n",
    " 'Fung & Bact – Inorganics-2',\n",
    " 'Fung & Bact – Inorganics-3',\n",
    " 'Fung & Bact – Other-1',\n",
    " 'Fung & Bact – Other-2',\n",
    " 'Fung & Bact – Other-3',\n",
    " 'Fung & Bact – Triazoles, diazoles-1',\n",
    " 'Fung & Bact – Triazoles, diazoles-2',\n",
    " 'Fung & Bact – Triazoles, diazoles-3',\n",
    " 'Herbicides – Amides-1',\n",
    " 'Herbicides – Amides-2',\n",
    " 'Herbicides – Amides-3',\n",
    " 'Herbicides – Carbamates-1',\n",
    " 'Herbicides – Carbamates-2',\n",
    " 'Herbicides – Carbamates-3',\n",
    " 'Herbicides – Dinitroanilines-1',\n",
    " 'Herbicides – Dinitroanilines-2',\n",
    " 'Herbicides – Dinitroanilines-3',\n",
    " 'Herbicides – Other-1',\n",
    " 'Herbicides – Other-2',\n",
    " 'Herbicides – Other-3',\n",
    " 'Herbicides – Phenoxy hormone products-1',\n",
    " 'Herbicides – Phenoxy hormone products-2',\n",
    " 'Herbicides – Phenoxy hormone products-3',\n",
    " 'Herbicides – Triazines-1',\n",
    " 'Herbicides – Triazines-2',\n",
    " 'Herbicides – Triazines-3',\n",
    " 'Herbicides – Urea derivates-1',\n",
    " 'Herbicides – Urea derivates-2',\n",
    " 'Herbicides – Urea derivates-3',\n",
    " 'Insecticides – Botanical products and biologicals-1',\n",
    " 'Insecticides – Botanical products and biologicals-2',\n",
    " 'Insecticides – Botanical products and biologicals-3',\n",
    " 'Insecticides – Carbamates-1',\n",
    " 'Insecticides – Carbamates-2',\n",
    " 'Insecticides – Carbamates-3',\n",
    " 'Insecticides – Organo-phosphates-1',\n",
    " 'Insecticides – Organo-phosphates-2',\n",
    " 'Insecticides – Organo-phosphates-3',\n",
    " 'Insecticides – Other-1',\n",
    " 'Insecticides – Other-2',\n",
    " 'Insecticides – Other-3',\n",
    " 'Insecticides – Pyrethroids-1',\n",
    " 'Insecticides – Pyrethroids-2',\n",
    " 'Insecticides – Pyrethroids-3',\n",
    " 'Mineral Oils-1',\n",
    " 'Mineral Oils-2',\n",
    " 'Mineral Oils-3',\n",
    " 'Plant Growth Regulators-1',\n",
    " 'Plant Growth Regulators-2',\n",
    " 'Plant Growth Regulators-3',\n",
    " 'Rodenticides – Other-1',\n",
    " 'Rodenticides – Other-2',\n",
    " 'Rodenticides – Other-3',\n",
    " 'Herbicides – Bipiridils-1',\n",
    " 'Herbicides – Bipiridils-2',\n",
    " 'Herbicides – Bipiridils-3',\n",
    " 'Herbicides – Sulfonyl ureas-1',\n",
    " 'Herbicides – Sulfonyl ureas-2',\n",
    " 'Herbicides – Sulfonyl ureas-3',\n",
    " 'Rodenticides – Anti-coagulants-1',\n",
    " 'Rodenticides – Anti-coagulants-2',\n",
    " 'Rodenticides – Anti-coagulants-3']"
   ]
  },
  {
   "cell_type": "code",
   "execution_count": 36,
   "metadata": {},
   "outputs": [
    {
     "data": {
      "text/plain": [
       "Vegetables and Legumes    670\n",
       "Fruits and Nuts           450\n",
       "Industrial_crops          237\n",
       "Cereals                   217\n",
       "Name: Category, dtype: int64"
      ]
     },
     "execution_count": 36,
     "metadata": {},
     "output_type": "execute_result"
    }
   ],
   "source": [
    "fao_data['Category'].value_counts()"
   ]
  },
  {
   "cell_type": "code",
   "execution_count": 37,
   "metadata": {},
   "outputs": [
    {
     "data": {
      "text/plain": [
       "array(['Fruits and Nuts', 'Vegetables and Legumes', 'Cereals',\n",
       "       'Industrial_crops'], dtype=object)"
      ]
     },
     "execution_count": 37,
     "metadata": {},
     "output_type": "execute_result"
    }
   ],
   "source": [
    "cat_names = fao_data['Category'].unique()\n",
    "cat_names"
   ]
  },
  {
   "cell_type": "code",
   "execution_count": 38,
   "metadata": {},
   "outputs": [
    {
     "data": {
      "text/html": [
       "<div>\n",
       "<style scoped>\n",
       "    .dataframe tbody tr th:only-of-type {\n",
       "        vertical-align: middle;\n",
       "    }\n",
       "\n",
       "    .dataframe tbody tr th {\n",
       "        vertical-align: top;\n",
       "    }\n",
       "\n",
       "    .dataframe thead th {\n",
       "        text-align: right;\n",
       "    }\n",
       "</style>\n",
       "<table border=\"1\" class=\"dataframe\">\n",
       "  <thead>\n",
       "    <tr style=\"text-align: right;\">\n",
       "      <th></th>\n",
       "      <th>Random_forest_MAE</th>\n",
       "      <th>Random_forest_MSE</th>\n",
       "      <th>Random_forest_RMSE</th>\n",
       "      <th>Random_forest_MAPE</th>\n",
       "      <th>Random_forest_r2_score</th>\n",
       "      <th>y_test_avg</th>\n",
       "      <th>y_pred_avg</th>\n",
       "    </tr>\n",
       "  </thead>\n",
       "  <tbody>\n",
       "    <tr>\n",
       "      <th>Fruits and Nuts</th>\n",
       "      <td>NaN</td>\n",
       "      <td>NaN</td>\n",
       "      <td>NaN</td>\n",
       "      <td>NaN</td>\n",
       "      <td>NaN</td>\n",
       "      <td>NaN</td>\n",
       "      <td>NaN</td>\n",
       "    </tr>\n",
       "    <tr>\n",
       "      <th>Vegetables and Legumes</th>\n",
       "      <td>NaN</td>\n",
       "      <td>NaN</td>\n",
       "      <td>NaN</td>\n",
       "      <td>NaN</td>\n",
       "      <td>NaN</td>\n",
       "      <td>NaN</td>\n",
       "      <td>NaN</td>\n",
       "    </tr>\n",
       "    <tr>\n",
       "      <th>Cereals</th>\n",
       "      <td>NaN</td>\n",
       "      <td>NaN</td>\n",
       "      <td>NaN</td>\n",
       "      <td>NaN</td>\n",
       "      <td>NaN</td>\n",
       "      <td>NaN</td>\n",
       "      <td>NaN</td>\n",
       "    </tr>\n",
       "    <tr>\n",
       "      <th>Industrial_crops</th>\n",
       "      <td>NaN</td>\n",
       "      <td>NaN</td>\n",
       "      <td>NaN</td>\n",
       "      <td>NaN</td>\n",
       "      <td>NaN</td>\n",
       "      <td>NaN</td>\n",
       "      <td>NaN</td>\n",
       "    </tr>\n",
       "  </tbody>\n",
       "</table>\n",
       "</div>"
      ],
      "text/plain": [
       "                       Random_forest_MAE Random_forest_MSE Random_forest_RMSE  \\\n",
       "Fruits and Nuts                      NaN               NaN                NaN   \n",
       "Vegetables and Legumes               NaN               NaN                NaN   \n",
       "Cereals                              NaN               NaN                NaN   \n",
       "Industrial_crops                     NaN               NaN                NaN   \n",
       "\n",
       "                       Random_forest_MAPE Random_forest_r2_score y_test_avg  \\\n",
       "Fruits and Nuts                       NaN                    NaN        NaN   \n",
       "Vegetables and Legumes                NaN                    NaN        NaN   \n",
       "Cereals                               NaN                    NaN        NaN   \n",
       "Industrial_crops                      NaN                    NaN        NaN   \n",
       "\n",
       "                       y_pred_avg  \n",
       "Fruits and Nuts               NaN  \n",
       "Vegetables and Legumes        NaN  \n",
       "Cereals                       NaN  \n",
       "Industrial_crops              NaN  "
      ]
     },
     "metadata": {},
     "output_type": "display_data"
    }
   ],
   "source": [
    "quality_metrics = ['Random_forest_MAE', 'Random_forest_MSE', 'Random_forest_RMSE', 'Random_forest_MAPE','Random_forest_r2_score', 'y_test_avg', 'y_pred_avg']\n",
    "error_df = pd.DataFrame(columns = quality_metrics, index = cat_names)\n",
    "display(error_df)"
   ]
  },
  {
   "cell_type": "code",
   "execution_count": 43,
   "metadata": {},
   "outputs": [],
   "source": [
    "##take more splits\n",
    "## take more \n",
    "\n",
    "mmsc_X = MinMaxScaler()\n",
    "for cat in cat_names:\n",
    "    crop_df = fao_data[fao_data['Category'] == cat]\n",
    "    x = mmsc_X.fit_transform(crop_df[x_vals])\n",
    "    y = crop_df['Yield(tonnes/ha)']\n",
    "    x_train, x_test, y_train, y_test = train_test_split(x, y, test_size=0.1, shuffle=False)\n",
    "    regressor = RandomForestRegressor(n_estimators = 500, random_state = 42, max_depth= 10)\n",
    "    regressor.fit(x_train, y_train)\n",
    "    #display(pd.DataFrame(x_train))\n",
    "    #display(pd.DataFrame(y_test)['Yield(tonnes/ha)'])\n",
    "   #  #prediction of new value\n",
    "    y_pred = regressor.predict(x_test)\n",
    "   # display(pd.DataFrame(y_pred))\n",
    "    calculate_metrics(error_df, cat, pd.DataFrame(y_test), y_pred)\n",
    "    \n",
    "  #['Yield(tonnes/ha)']\n",
    "    "
   ]
  },
  {
   "cell_type": "code",
   "execution_count": 44,
   "metadata": {},
   "outputs": [
    {
     "data": {
      "text/html": [
       "<div>\n",
       "<style scoped>\n",
       "    .dataframe tbody tr th:only-of-type {\n",
       "        vertical-align: middle;\n",
       "    }\n",
       "\n",
       "    .dataframe tbody tr th {\n",
       "        vertical-align: top;\n",
       "    }\n",
       "\n",
       "    .dataframe thead th {\n",
       "        text-align: right;\n",
       "    }\n",
       "</style>\n",
       "<table border=\"1\" class=\"dataframe\">\n",
       "  <thead>\n",
       "    <tr style=\"text-align: right;\">\n",
       "      <th></th>\n",
       "      <th>Random_forest_MAE</th>\n",
       "      <th>Random_forest_MSE</th>\n",
       "      <th>Random_forest_RMSE</th>\n",
       "      <th>Random_forest_MAPE</th>\n",
       "      <th>Random_forest_r2_score</th>\n",
       "      <th>y_test_avg</th>\n",
       "      <th>y_pred_avg</th>\n",
       "    </tr>\n",
       "  </thead>\n",
       "  <tbody>\n",
       "    <tr>\n",
       "      <th>Fruits and Nuts</th>\n",
       "      <td>4.735578</td>\n",
       "      <td>37.360206</td>\n",
       "      <td>6.1123</td>\n",
       "      <td>0.96327</td>\n",
       "      <td>0.301619</td>\n",
       "      <td>8.822054</td>\n",
       "      <td>9.390697</td>\n",
       "    </tr>\n",
       "    <tr>\n",
       "      <th>Vegetables and Legumes</th>\n",
       "      <td>21.724017</td>\n",
       "      <td>1664.648384</td>\n",
       "      <td>40.800103</td>\n",
       "      <td>3.025965</td>\n",
       "      <td>0.598193</td>\n",
       "      <td>47.336589</td>\n",
       "      <td>39.918789</td>\n",
       "    </tr>\n",
       "    <tr>\n",
       "      <th>Cereals</th>\n",
       "      <td>0.425948</td>\n",
       "      <td>0.388764</td>\n",
       "      <td>0.623509</td>\n",
       "      <td>0.155576</td>\n",
       "      <td>0.92911</td>\n",
       "      <td>6.813392</td>\n",
       "      <td>6.88002</td>\n",
       "    </tr>\n",
       "    <tr>\n",
       "      <th>Industrial_crops</th>\n",
       "      <td>0.665193</td>\n",
       "      <td>0.902214</td>\n",
       "      <td>0.94985</td>\n",
       "      <td>0.208125</td>\n",
       "      <td>0.206077</td>\n",
       "      <td>3.349255</td>\n",
       "      <td>3.252531</td>\n",
       "    </tr>\n",
       "  </tbody>\n",
       "</table>\n",
       "</div>"
      ],
      "text/plain": [
       "                       Random_forest_MAE Random_forest_MSE Random_forest_RMSE  \\\n",
       "Fruits and Nuts                 4.735578         37.360206             6.1123   \n",
       "Vegetables and Legumes         21.724017       1664.648384          40.800103   \n",
       "Cereals                         0.425948          0.388764           0.623509   \n",
       "Industrial_crops                0.665193          0.902214            0.94985   \n",
       "\n",
       "                       Random_forest_MAPE Random_forest_r2_score y_test_avg  \\\n",
       "Fruits and Nuts                   0.96327               0.301619   8.822054   \n",
       "Vegetables and Legumes           3.025965               0.598193  47.336589   \n",
       "Cereals                          0.155576                0.92911   6.813392   \n",
       "Industrial_crops                 0.208125               0.206077   3.349255   \n",
       "\n",
       "                       y_pred_avg  \n",
       "Fruits and Nuts          9.390697  \n",
       "Vegetables and Legumes  39.918789  \n",
       "Cereals                   6.88002  \n",
       "Industrial_crops         3.252531  "
      ]
     },
     "execution_count": 44,
     "metadata": {},
     "output_type": "execute_result"
    }
   ],
   "source": [
    "error_df"
   ]
  },
  {
   "cell_type": "code",
   "execution_count": 27,
   "metadata": {},
   "outputs": [
    {
     "data": {
      "image/png": "[encoded data removed]",
      "text/plain": [
       "<Figure size 1440x720 with 1 Axes>"
      ]
     },
     "metadata": {
      "needs_background": "light"
     },
     "output_type": "display_data"
    }
   ],
   "source": [
    "avg_df = error_df[['y_test_avg', 'y_pred_avg']].reset_index()\n",
    "\n",
    "\n",
    "\n",
    "#create a line plot of the average test and predicted yield per crop\n",
    "plt.figure(figsize=(20, 10))\n",
    "plt.plot(avg_df['index'], avg_df['y_test_avg'], label='Average Test Yield')\n",
    "plt.plot(avg_df['index'], avg_df['y_pred_avg'], label='Average Predicted Yield')\n",
    "plt.xticks(rotation=90)\n",
    "plt.xlabel('index')\n",
    "plt.ylabel('Yield (tonnes/ha)')\n",
    "plt.title('Average Test and Predicted Yield per Crop')\n",
    "plt.legend()\n",
    "plt.show()"
   ]
  }
 ],
 "metadata": {
  "kernelspec": {
   "display_name": "base",
   "language": "python",
   "name": "python3"
  },
  "language_info": {
   "codemirror_mode": {
    "name": "ipython",
    "version": 3
   },
   "file_extension": ".py",
   "mimetype": "text/x-python",
   "name": "python",
   "nbconvert_exporter": "python",
   "pygments_lexer": "ipython3",
   "version": "3.9.7"
  },
  "orig_nbformat": 4,
  "vscode": {
   "interpreter": {
    "hash": "0783c9b49f6f75b3dbff4c84e84d684dbf53840987e9161b2ccba200d4db247f"
   }
  }
 },
 "nbformat": 4,
 "nbformat_minor": 2
}
